{
 "cells": [
  {
   "cell_type": "code",
   "id": "initial_id",
   "metadata": {
    "collapsed": true,
    "ExecuteTime": {
     "end_time": "2024-11-07T12:36:16.032150Z",
     "start_time": "2024-11-07T12:36:16.011211Z"
    }
   },
   "source": [
    "import pandas as pd\n",
    "import numpy as np\n",
    "import matplotlib.pyplot as plt\n",
    "from sklearn.model_selection import train_test_split\n",
    "from sklearn.metrics import accuracy_score\n",
    "from sklearn.preprocessing import MinMaxScaler\n",
    "\n",
    "import tensorflow as tf\n",
    "from tensorflow.keras.layers import Dense, Dropout\n",
    "from tensorflow.keras.models import Model, Sequential"
   ],
   "outputs": [],
   "execution_count": 36
  },
  {
   "metadata": {},
   "cell_type": "markdown",
   "source": "## Loading data",
   "id": "949b4180925a235b"
  },
  {
   "metadata": {
    "ExecuteTime": {
     "end_time": "2024-11-07T12:36:18.499384Z",
     "start_time": "2024-11-07T12:36:16.463750Z"
    }
   },
   "cell_type": "code",
   "source": [
    "data = pd.read_csv(\"./creditcard.csv\")\n",
    "data"
   ],
   "id": "4b80590a8a3a189b",
   "outputs": [
    {
     "data": {
      "text/plain": [
       "            Time         V1         V2        V3        V4        V5  \\\n",
       "0            0.0  -1.359807  -0.072781  2.536347  1.378155 -0.338321   \n",
       "1            0.0   1.191857   0.266151  0.166480  0.448154  0.060018   \n",
       "2            1.0  -1.358354  -1.340163  1.773209  0.379780 -0.503198   \n",
       "3            1.0  -0.966272  -0.185226  1.792993 -0.863291 -0.010309   \n",
       "4            2.0  -1.158233   0.877737  1.548718  0.403034 -0.407193   \n",
       "...          ...        ...        ...       ...       ...       ...   \n",
       "284802  172786.0 -11.881118  10.071785 -9.834783 -2.066656 -5.364473   \n",
       "284803  172787.0  -0.732789  -0.055080  2.035030 -0.738589  0.868229   \n",
       "284804  172788.0   1.919565  -0.301254 -3.249640 -0.557828  2.630515   \n",
       "284805  172788.0  -0.240440   0.530483  0.702510  0.689799 -0.377961   \n",
       "284806  172792.0  -0.533413  -0.189733  0.703337 -0.506271 -0.012546   \n",
       "\n",
       "              V6        V7        V8        V9  ...       V21       V22  \\\n",
       "0       0.462388  0.239599  0.098698  0.363787  ... -0.018307  0.277838   \n",
       "1      -0.082361 -0.078803  0.085102 -0.255425  ... -0.225775 -0.638672   \n",
       "2       1.800499  0.791461  0.247676 -1.514654  ...  0.247998  0.771679   \n",
       "3       1.247203  0.237609  0.377436 -1.387024  ... -0.108300  0.005274   \n",
       "4       0.095921  0.592941 -0.270533  0.817739  ... -0.009431  0.798278   \n",
       "...          ...       ...       ...       ...  ...       ...       ...   \n",
       "284802 -2.606837 -4.918215  7.305334  1.914428  ...  0.213454  0.111864   \n",
       "284803  1.058415  0.024330  0.294869  0.584800  ...  0.214205  0.924384   \n",
       "284804  3.031260 -0.296827  0.708417  0.432454  ...  0.232045  0.578229   \n",
       "284805  0.623708 -0.686180  0.679145  0.392087  ...  0.265245  0.800049   \n",
       "284806 -0.649617  1.577006 -0.414650  0.486180  ...  0.261057  0.643078   \n",
       "\n",
       "             V23       V24       V25       V26       V27       V28  Amount  \\\n",
       "0      -0.110474  0.066928  0.128539 -0.189115  0.133558 -0.021053  149.62   \n",
       "1       0.101288 -0.339846  0.167170  0.125895 -0.008983  0.014724    2.69   \n",
       "2       0.909412 -0.689281 -0.327642 -0.139097 -0.055353 -0.059752  378.66   \n",
       "3      -0.190321 -1.175575  0.647376 -0.221929  0.062723  0.061458  123.50   \n",
       "4      -0.137458  0.141267 -0.206010  0.502292  0.219422  0.215153   69.99   \n",
       "...          ...       ...       ...       ...       ...       ...     ...   \n",
       "284802  1.014480 -0.509348  1.436807  0.250034  0.943651  0.823731    0.77   \n",
       "284803  0.012463 -1.016226 -0.606624 -0.395255  0.068472 -0.053527   24.79   \n",
       "284804 -0.037501  0.640134  0.265745 -0.087371  0.004455 -0.026561   67.88   \n",
       "284805 -0.163298  0.123205 -0.569159  0.546668  0.108821  0.104533   10.00   \n",
       "284806  0.376777  0.008797 -0.473649 -0.818267 -0.002415  0.013649  217.00   \n",
       "\n",
       "        Class  \n",
       "0           0  \n",
       "1           0  \n",
       "2           0  \n",
       "3           0  \n",
       "4           0  \n",
       "...       ...  \n",
       "284802      0  \n",
       "284803      0  \n",
       "284804      0  \n",
       "284805      0  \n",
       "284806      0  \n",
       "\n",
       "[284807 rows x 31 columns]"
      ],
      "text/html": [
       "<div>\n",
       "<style scoped>\n",
       "    .dataframe tbody tr th:only-of-type {\n",
       "        vertical-align: middle;\n",
       "    }\n",
       "\n",
       "    .dataframe tbody tr th {\n",
       "        vertical-align: top;\n",
       "    }\n",
       "\n",
       "    .dataframe thead th {\n",
       "        text-align: right;\n",
       "    }\n",
       "</style>\n",
       "<table border=\"1\" class=\"dataframe\">\n",
       "  <thead>\n",
       "    <tr style=\"text-align: right;\">\n",
       "      <th></th>\n",
       "      <th>Time</th>\n",
       "      <th>V1</th>\n",
       "      <th>V2</th>\n",
       "      <th>V3</th>\n",
       "      <th>V4</th>\n",
       "      <th>V5</th>\n",
       "      <th>V6</th>\n",
       "      <th>V7</th>\n",
       "      <th>V8</th>\n",
       "      <th>V9</th>\n",
       "      <th>...</th>\n",
       "      <th>V21</th>\n",
       "      <th>V22</th>\n",
       "      <th>V23</th>\n",
       "      <th>V24</th>\n",
       "      <th>V25</th>\n",
       "      <th>V26</th>\n",
       "      <th>V27</th>\n",
       "      <th>V28</th>\n",
       "      <th>Amount</th>\n",
       "      <th>Class</th>\n",
       "    </tr>\n",
       "  </thead>\n",
       "  <tbody>\n",
       "    <tr>\n",
       "      <th>0</th>\n",
       "      <td>0.0</td>\n",
       "      <td>-1.359807</td>\n",
       "      <td>-0.072781</td>\n",
       "      <td>2.536347</td>\n",
       "      <td>1.378155</td>\n",
       "      <td>-0.338321</td>\n",
       "      <td>0.462388</td>\n",
       "      <td>0.239599</td>\n",
       "      <td>0.098698</td>\n",
       "      <td>0.363787</td>\n",
       "      <td>...</td>\n",
       "      <td>-0.018307</td>\n",
       "      <td>0.277838</td>\n",
       "      <td>-0.110474</td>\n",
       "      <td>0.066928</td>\n",
       "      <td>0.128539</td>\n",
       "      <td>-0.189115</td>\n",
       "      <td>0.133558</td>\n",
       "      <td>-0.021053</td>\n",
       "      <td>149.62</td>\n",
       "      <td>0</td>\n",
       "    </tr>\n",
       "    <tr>\n",
       "      <th>1</th>\n",
       "      <td>0.0</td>\n",
       "      <td>1.191857</td>\n",
       "      <td>0.266151</td>\n",
       "      <td>0.166480</td>\n",
       "      <td>0.448154</td>\n",
       "      <td>0.060018</td>\n",
       "      <td>-0.082361</td>\n",
       "      <td>-0.078803</td>\n",
       "      <td>0.085102</td>\n",
       "      <td>-0.255425</td>\n",
       "      <td>...</td>\n",
       "      <td>-0.225775</td>\n",
       "      <td>-0.638672</td>\n",
       "      <td>0.101288</td>\n",
       "      <td>-0.339846</td>\n",
       "      <td>0.167170</td>\n",
       "      <td>0.125895</td>\n",
       "      <td>-0.008983</td>\n",
       "      <td>0.014724</td>\n",
       "      <td>2.69</td>\n",
       "      <td>0</td>\n",
       "    </tr>\n",
       "    <tr>\n",
       "      <th>2</th>\n",
       "      <td>1.0</td>\n",
       "      <td>-1.358354</td>\n",
       "      <td>-1.340163</td>\n",
       "      <td>1.773209</td>\n",
       "      <td>0.379780</td>\n",
       "      <td>-0.503198</td>\n",
       "      <td>1.800499</td>\n",
       "      <td>0.791461</td>\n",
       "      <td>0.247676</td>\n",
       "      <td>-1.514654</td>\n",
       "      <td>...</td>\n",
       "      <td>0.247998</td>\n",
       "      <td>0.771679</td>\n",
       "      <td>0.909412</td>\n",
       "      <td>-0.689281</td>\n",
       "      <td>-0.327642</td>\n",
       "      <td>-0.139097</td>\n",
       "      <td>-0.055353</td>\n",
       "      <td>-0.059752</td>\n",
       "      <td>378.66</td>\n",
       "      <td>0</td>\n",
       "    </tr>\n",
       "    <tr>\n",
       "      <th>3</th>\n",
       "      <td>1.0</td>\n",
       "      <td>-0.966272</td>\n",
       "      <td>-0.185226</td>\n",
       "      <td>1.792993</td>\n",
       "      <td>-0.863291</td>\n",
       "      <td>-0.010309</td>\n",
       "      <td>1.247203</td>\n",
       "      <td>0.237609</td>\n",
       "      <td>0.377436</td>\n",
       "      <td>-1.387024</td>\n",
       "      <td>...</td>\n",
       "      <td>-0.108300</td>\n",
       "      <td>0.005274</td>\n",
       "      <td>-0.190321</td>\n",
       "      <td>-1.175575</td>\n",
       "      <td>0.647376</td>\n",
       "      <td>-0.221929</td>\n",
       "      <td>0.062723</td>\n",
       "      <td>0.061458</td>\n",
       "      <td>123.50</td>\n",
       "      <td>0</td>\n",
       "    </tr>\n",
       "    <tr>\n",
       "      <th>4</th>\n",
       "      <td>2.0</td>\n",
       "      <td>-1.158233</td>\n",
       "      <td>0.877737</td>\n",
       "      <td>1.548718</td>\n",
       "      <td>0.403034</td>\n",
       "      <td>-0.407193</td>\n",
       "      <td>0.095921</td>\n",
       "      <td>0.592941</td>\n",
       "      <td>-0.270533</td>\n",
       "      <td>0.817739</td>\n",
       "      <td>...</td>\n",
       "      <td>-0.009431</td>\n",
       "      <td>0.798278</td>\n",
       "      <td>-0.137458</td>\n",
       "      <td>0.141267</td>\n",
       "      <td>-0.206010</td>\n",
       "      <td>0.502292</td>\n",
       "      <td>0.219422</td>\n",
       "      <td>0.215153</td>\n",
       "      <td>69.99</td>\n",
       "      <td>0</td>\n",
       "    </tr>\n",
       "    <tr>\n",
       "      <th>...</th>\n",
       "      <td>...</td>\n",
       "      <td>...</td>\n",
       "      <td>...</td>\n",
       "      <td>...</td>\n",
       "      <td>...</td>\n",
       "      <td>...</td>\n",
       "      <td>...</td>\n",
       "      <td>...</td>\n",
       "      <td>...</td>\n",
       "      <td>...</td>\n",
       "      <td>...</td>\n",
       "      <td>...</td>\n",
       "      <td>...</td>\n",
       "      <td>...</td>\n",
       "      <td>...</td>\n",
       "      <td>...</td>\n",
       "      <td>...</td>\n",
       "      <td>...</td>\n",
       "      <td>...</td>\n",
       "      <td>...</td>\n",
       "      <td>...</td>\n",
       "    </tr>\n",
       "    <tr>\n",
       "      <th>284802</th>\n",
       "      <td>172786.0</td>\n",
       "      <td>-11.881118</td>\n",
       "      <td>10.071785</td>\n",
       "      <td>-9.834783</td>\n",
       "      <td>-2.066656</td>\n",
       "      <td>-5.364473</td>\n",
       "      <td>-2.606837</td>\n",
       "      <td>-4.918215</td>\n",
       "      <td>7.305334</td>\n",
       "      <td>1.914428</td>\n",
       "      <td>...</td>\n",
       "      <td>0.213454</td>\n",
       "      <td>0.111864</td>\n",
       "      <td>1.014480</td>\n",
       "      <td>-0.509348</td>\n",
       "      <td>1.436807</td>\n",
       "      <td>0.250034</td>\n",
       "      <td>0.943651</td>\n",
       "      <td>0.823731</td>\n",
       "      <td>0.77</td>\n",
       "      <td>0</td>\n",
       "    </tr>\n",
       "    <tr>\n",
       "      <th>284803</th>\n",
       "      <td>172787.0</td>\n",
       "      <td>-0.732789</td>\n",
       "      <td>-0.055080</td>\n",
       "      <td>2.035030</td>\n",
       "      <td>-0.738589</td>\n",
       "      <td>0.868229</td>\n",
       "      <td>1.058415</td>\n",
       "      <td>0.024330</td>\n",
       "      <td>0.294869</td>\n",
       "      <td>0.584800</td>\n",
       "      <td>...</td>\n",
       "      <td>0.214205</td>\n",
       "      <td>0.924384</td>\n",
       "      <td>0.012463</td>\n",
       "      <td>-1.016226</td>\n",
       "      <td>-0.606624</td>\n",
       "      <td>-0.395255</td>\n",
       "      <td>0.068472</td>\n",
       "      <td>-0.053527</td>\n",
       "      <td>24.79</td>\n",
       "      <td>0</td>\n",
       "    </tr>\n",
       "    <tr>\n",
       "      <th>284804</th>\n",
       "      <td>172788.0</td>\n",
       "      <td>1.919565</td>\n",
       "      <td>-0.301254</td>\n",
       "      <td>-3.249640</td>\n",
       "      <td>-0.557828</td>\n",
       "      <td>2.630515</td>\n",
       "      <td>3.031260</td>\n",
       "      <td>-0.296827</td>\n",
       "      <td>0.708417</td>\n",
       "      <td>0.432454</td>\n",
       "      <td>...</td>\n",
       "      <td>0.232045</td>\n",
       "      <td>0.578229</td>\n",
       "      <td>-0.037501</td>\n",
       "      <td>0.640134</td>\n",
       "      <td>0.265745</td>\n",
       "      <td>-0.087371</td>\n",
       "      <td>0.004455</td>\n",
       "      <td>-0.026561</td>\n",
       "      <td>67.88</td>\n",
       "      <td>0</td>\n",
       "    </tr>\n",
       "    <tr>\n",
       "      <th>284805</th>\n",
       "      <td>172788.0</td>\n",
       "      <td>-0.240440</td>\n",
       "      <td>0.530483</td>\n",
       "      <td>0.702510</td>\n",
       "      <td>0.689799</td>\n",
       "      <td>-0.377961</td>\n",
       "      <td>0.623708</td>\n",
       "      <td>-0.686180</td>\n",
       "      <td>0.679145</td>\n",
       "      <td>0.392087</td>\n",
       "      <td>...</td>\n",
       "      <td>0.265245</td>\n",
       "      <td>0.800049</td>\n",
       "      <td>-0.163298</td>\n",
       "      <td>0.123205</td>\n",
       "      <td>-0.569159</td>\n",
       "      <td>0.546668</td>\n",
       "      <td>0.108821</td>\n",
       "      <td>0.104533</td>\n",
       "      <td>10.00</td>\n",
       "      <td>0</td>\n",
       "    </tr>\n",
       "    <tr>\n",
       "      <th>284806</th>\n",
       "      <td>172792.0</td>\n",
       "      <td>-0.533413</td>\n",
       "      <td>-0.189733</td>\n",
       "      <td>0.703337</td>\n",
       "      <td>-0.506271</td>\n",
       "      <td>-0.012546</td>\n",
       "      <td>-0.649617</td>\n",
       "      <td>1.577006</td>\n",
       "      <td>-0.414650</td>\n",
       "      <td>0.486180</td>\n",
       "      <td>...</td>\n",
       "      <td>0.261057</td>\n",
       "      <td>0.643078</td>\n",
       "      <td>0.376777</td>\n",
       "      <td>0.008797</td>\n",
       "      <td>-0.473649</td>\n",
       "      <td>-0.818267</td>\n",
       "      <td>-0.002415</td>\n",
       "      <td>0.013649</td>\n",
       "      <td>217.00</td>\n",
       "      <td>0</td>\n",
       "    </tr>\n",
       "  </tbody>\n",
       "</table>\n",
       "<p>284807 rows × 31 columns</p>\n",
       "</div>"
      ]
     },
     "execution_count": 37,
     "metadata": {},
     "output_type": "execute_result"
    }
   ],
   "execution_count": 37
  },
  {
   "metadata": {},
   "cell_type": "markdown",
   "source": "## Exploring data",
   "id": "c6c0481dd790a36e"
  },
  {
   "metadata": {
    "ExecuteTime": {
     "end_time": "2024-11-07T12:36:18.520918Z",
     "start_time": "2024-11-07T12:36:18.501380Z"
    }
   },
   "cell_type": "code",
   "source": "data['Class'].value_counts()",
   "id": "53770efb53175354",
   "outputs": [
    {
     "data": {
      "text/plain": [
       "Class\n",
       "0    284315\n",
       "1       492\n",
       "Name: count, dtype: int64"
      ]
     },
     "execution_count": 38,
     "metadata": {},
     "output_type": "execute_result"
    }
   ],
   "execution_count": 38
  },
  {
   "metadata": {
    "ExecuteTime": {
     "end_time": "2024-11-07T12:36:18.565421Z",
     "start_time": "2024-11-07T12:36:18.521917Z"
    }
   },
   "cell_type": "code",
   "source": [
    "X = data.drop(['Class', 'Time'], axis=1)\n",
    "y = data['Class']"
   ],
   "id": "bd8a96d3bac4b2a5",
   "outputs": [],
   "execution_count": 39
  },
  {
   "metadata": {
    "ExecuteTime": {
     "end_time": "2024-11-07T12:36:18.781915Z",
     "start_time": "2024-11-07T12:36:18.566416Z"
    }
   },
   "cell_type": "code",
   "source": "X_train, X_test, y_train, y_test = train_test_split(X, y, test_size=0.2, random_state=42, stratify=y)",
   "id": "7bf27ae33f6a7b71",
   "outputs": [],
   "execution_count": 40
  },
  {
   "metadata": {
    "ExecuteTime": {
     "end_time": "2024-11-07T12:36:18.880894Z",
     "start_time": "2024-11-07T12:36:18.783827Z"
    }
   },
   "cell_type": "code",
   "source": [
    "train_index = y_train[y_train == 0].index\n",
    "train_data = X_train.loc[train_index]\n",
    "\n",
    "train_data"
   ],
   "id": "ea54961c75d0ecf9",
   "outputs": [
    {
     "data": {
      "text/plain": [
       "              V1        V2        V3        V4        V5        V6        V7  \\\n",
       "265518  1.946747 -0.752526 -1.355130 -0.661630  1.502822  4.024933 -1.479661   \n",
       "180305  2.035149 -0.048880 -3.058693  0.247945  2.943487  3.298697 -0.002192   \n",
       "42664  -0.991920  0.603193  0.711976 -0.992425 -0.825838  1.956261 -2.212603   \n",
       "198723  2.285718 -1.500239 -0.747565 -1.668119 -1.394143 -0.350339 -1.427984   \n",
       "82325  -0.448747 -1.011440  0.115903 -3.454854  0.715771 -0.147490  0.504347   \n",
       "...          ...       ...       ...       ...       ...       ...       ...   \n",
       "233802  1.993864 -0.516866 -0.620118  0.129845 -0.285128  0.395044 -0.822358   \n",
       "85418  -1.497933  0.657921  1.581568 -0.024286  0.584698  1.303031  0.609212   \n",
       "29062   1.069777  0.072105  0.496540  1.505318 -0.380277 -0.370243  0.100551   \n",
       "13766   1.280465  0.300586  0.333044  0.512720  0.065052 -0.145844 -0.145519   \n",
       "17677  -0.598120  0.775041  1.823394  0.312991 -0.096171 -0.391452  0.499351   \n",
       "\n",
       "              V8        V9       V10  ...       V20       V21       V22  \\\n",
       "265518  1.139880  1.406819 -0.157403  ... -0.134435  0.076197  0.297537   \n",
       "180305  0.674782  0.045826  0.284864  ... -0.227279  0.038628  0.228197   \n",
       "42664  -5.037523  0.000772 -2.009561  ...  1.280856 -2.798352  0.109526   \n",
       "198723  0.010010 -1.118447  1.756121  ... -0.490642 -0.139670  0.077013   \n",
       "82325  -0.113817 -0.044782 -0.558955  ... -0.275297 -0.243245 -0.173298   \n",
       "...          ...       ...       ...  ...       ...       ...       ...   \n",
       "233802  0.231591  0.995898  0.212619  ... -0.174051  0.262526  0.884510   \n",
       "85418   0.135561  0.452745  0.108640  ... -0.225079 -0.072452  0.299172   \n",
       "29062  -0.026687  0.319684 -0.131553  ... -0.149402 -0.061991 -0.044629   \n",
       "13766  -0.091833  1.111187 -0.268878  ... -0.093783 -0.409934 -0.961351   \n",
       "17677   0.071224 -0.017496 -0.512312  ...  0.102259  0.060615  0.568083   \n",
       "\n",
       "             V23       V24       V25       V26       V27       V28  Amount  \n",
       "265518  0.307915  0.690980 -0.350316 -0.388907  0.077641 -0.032248    7.32  \n",
       "180305  0.035542  0.707090  0.512885 -0.471198  0.002520 -0.069002    2.99  \n",
       "42664  -0.436530 -0.932803  0.826684  0.913773  0.038049  0.185340  175.10  \n",
       "198723  0.208310 -0.538236 -0.278032 -0.162068  0.018045 -0.063005    6.10  \n",
       "82325  -0.006692 -1.362383 -0.292234 -0.144622 -0.032580 -0.064194   86.10  \n",
       "...          ...       ...       ...       ...       ...       ...     ...  \n",
       "233802  0.099141  0.275689 -0.195404  0.623598 -0.032455 -0.058552    5.99  \n",
       "85418   0.110048 -0.615980 -0.425883  0.263968 -0.448445  0.045178   36.99  \n",
       "29062  -0.050485  0.400171  0.593314 -0.335160  0.031014  0.024886   45.42  \n",
       "13766   0.033153 -0.560429  0.278428  0.089546 -0.059835 -0.005887    0.89  \n",
       "17677  -0.084001  0.685003 -0.245859  0.356638  0.378580  0.206366    6.99  \n",
       "\n",
       "[227451 rows x 29 columns]"
      ],
      "text/html": [
       "<div>\n",
       "<style scoped>\n",
       "    .dataframe tbody tr th:only-of-type {\n",
       "        vertical-align: middle;\n",
       "    }\n",
       "\n",
       "    .dataframe tbody tr th {\n",
       "        vertical-align: top;\n",
       "    }\n",
       "\n",
       "    .dataframe thead th {\n",
       "        text-align: right;\n",
       "    }\n",
       "</style>\n",
       "<table border=\"1\" class=\"dataframe\">\n",
       "  <thead>\n",
       "    <tr style=\"text-align: right;\">\n",
       "      <th></th>\n",
       "      <th>V1</th>\n",
       "      <th>V2</th>\n",
       "      <th>V3</th>\n",
       "      <th>V4</th>\n",
       "      <th>V5</th>\n",
       "      <th>V6</th>\n",
       "      <th>V7</th>\n",
       "      <th>V8</th>\n",
       "      <th>V9</th>\n",
       "      <th>V10</th>\n",
       "      <th>...</th>\n",
       "      <th>V20</th>\n",
       "      <th>V21</th>\n",
       "      <th>V22</th>\n",
       "      <th>V23</th>\n",
       "      <th>V24</th>\n",
       "      <th>V25</th>\n",
       "      <th>V26</th>\n",
       "      <th>V27</th>\n",
       "      <th>V28</th>\n",
       "      <th>Amount</th>\n",
       "    </tr>\n",
       "  </thead>\n",
       "  <tbody>\n",
       "    <tr>\n",
       "      <th>265518</th>\n",
       "      <td>1.946747</td>\n",
       "      <td>-0.752526</td>\n",
       "      <td>-1.355130</td>\n",
       "      <td>-0.661630</td>\n",
       "      <td>1.502822</td>\n",
       "      <td>4.024933</td>\n",
       "      <td>-1.479661</td>\n",
       "      <td>1.139880</td>\n",
       "      <td>1.406819</td>\n",
       "      <td>-0.157403</td>\n",
       "      <td>...</td>\n",
       "      <td>-0.134435</td>\n",
       "      <td>0.076197</td>\n",
       "      <td>0.297537</td>\n",
       "      <td>0.307915</td>\n",
       "      <td>0.690980</td>\n",
       "      <td>-0.350316</td>\n",
       "      <td>-0.388907</td>\n",
       "      <td>0.077641</td>\n",
       "      <td>-0.032248</td>\n",
       "      <td>7.32</td>\n",
       "    </tr>\n",
       "    <tr>\n",
       "      <th>180305</th>\n",
       "      <td>2.035149</td>\n",
       "      <td>-0.048880</td>\n",
       "      <td>-3.058693</td>\n",
       "      <td>0.247945</td>\n",
       "      <td>2.943487</td>\n",
       "      <td>3.298697</td>\n",
       "      <td>-0.002192</td>\n",
       "      <td>0.674782</td>\n",
       "      <td>0.045826</td>\n",
       "      <td>0.284864</td>\n",
       "      <td>...</td>\n",
       "      <td>-0.227279</td>\n",
       "      <td>0.038628</td>\n",
       "      <td>0.228197</td>\n",
       "      <td>0.035542</td>\n",
       "      <td>0.707090</td>\n",
       "      <td>0.512885</td>\n",
       "      <td>-0.471198</td>\n",
       "      <td>0.002520</td>\n",
       "      <td>-0.069002</td>\n",
       "      <td>2.99</td>\n",
       "    </tr>\n",
       "    <tr>\n",
       "      <th>42664</th>\n",
       "      <td>-0.991920</td>\n",
       "      <td>0.603193</td>\n",
       "      <td>0.711976</td>\n",
       "      <td>-0.992425</td>\n",
       "      <td>-0.825838</td>\n",
       "      <td>1.956261</td>\n",
       "      <td>-2.212603</td>\n",
       "      <td>-5.037523</td>\n",
       "      <td>0.000772</td>\n",
       "      <td>-2.009561</td>\n",
       "      <td>...</td>\n",
       "      <td>1.280856</td>\n",
       "      <td>-2.798352</td>\n",
       "      <td>0.109526</td>\n",
       "      <td>-0.436530</td>\n",
       "      <td>-0.932803</td>\n",
       "      <td>0.826684</td>\n",
       "      <td>0.913773</td>\n",
       "      <td>0.038049</td>\n",
       "      <td>0.185340</td>\n",
       "      <td>175.10</td>\n",
       "    </tr>\n",
       "    <tr>\n",
       "      <th>198723</th>\n",
       "      <td>2.285718</td>\n",
       "      <td>-1.500239</td>\n",
       "      <td>-0.747565</td>\n",
       "      <td>-1.668119</td>\n",
       "      <td>-1.394143</td>\n",
       "      <td>-0.350339</td>\n",
       "      <td>-1.427984</td>\n",
       "      <td>0.010010</td>\n",
       "      <td>-1.118447</td>\n",
       "      <td>1.756121</td>\n",
       "      <td>...</td>\n",
       "      <td>-0.490642</td>\n",
       "      <td>-0.139670</td>\n",
       "      <td>0.077013</td>\n",
       "      <td>0.208310</td>\n",
       "      <td>-0.538236</td>\n",
       "      <td>-0.278032</td>\n",
       "      <td>-0.162068</td>\n",
       "      <td>0.018045</td>\n",
       "      <td>-0.063005</td>\n",
       "      <td>6.10</td>\n",
       "    </tr>\n",
       "    <tr>\n",
       "      <th>82325</th>\n",
       "      <td>-0.448747</td>\n",
       "      <td>-1.011440</td>\n",
       "      <td>0.115903</td>\n",
       "      <td>-3.454854</td>\n",
       "      <td>0.715771</td>\n",
       "      <td>-0.147490</td>\n",
       "      <td>0.504347</td>\n",
       "      <td>-0.113817</td>\n",
       "      <td>-0.044782</td>\n",
       "      <td>-0.558955</td>\n",
       "      <td>...</td>\n",
       "      <td>-0.275297</td>\n",
       "      <td>-0.243245</td>\n",
       "      <td>-0.173298</td>\n",
       "      <td>-0.006692</td>\n",
       "      <td>-1.362383</td>\n",
       "      <td>-0.292234</td>\n",
       "      <td>-0.144622</td>\n",
       "      <td>-0.032580</td>\n",
       "      <td>-0.064194</td>\n",
       "      <td>86.10</td>\n",
       "    </tr>\n",
       "    <tr>\n",
       "      <th>...</th>\n",
       "      <td>...</td>\n",
       "      <td>...</td>\n",
       "      <td>...</td>\n",
       "      <td>...</td>\n",
       "      <td>...</td>\n",
       "      <td>...</td>\n",
       "      <td>...</td>\n",
       "      <td>...</td>\n",
       "      <td>...</td>\n",
       "      <td>...</td>\n",
       "      <td>...</td>\n",
       "      <td>...</td>\n",
       "      <td>...</td>\n",
       "      <td>...</td>\n",
       "      <td>...</td>\n",
       "      <td>...</td>\n",
       "      <td>...</td>\n",
       "      <td>...</td>\n",
       "      <td>...</td>\n",
       "      <td>...</td>\n",
       "      <td>...</td>\n",
       "    </tr>\n",
       "    <tr>\n",
       "      <th>233802</th>\n",
       "      <td>1.993864</td>\n",
       "      <td>-0.516866</td>\n",
       "      <td>-0.620118</td>\n",
       "      <td>0.129845</td>\n",
       "      <td>-0.285128</td>\n",
       "      <td>0.395044</td>\n",
       "      <td>-0.822358</td>\n",
       "      <td>0.231591</td>\n",
       "      <td>0.995898</td>\n",
       "      <td>0.212619</td>\n",
       "      <td>...</td>\n",
       "      <td>-0.174051</td>\n",
       "      <td>0.262526</td>\n",
       "      <td>0.884510</td>\n",
       "      <td>0.099141</td>\n",
       "      <td>0.275689</td>\n",
       "      <td>-0.195404</td>\n",
       "      <td>0.623598</td>\n",
       "      <td>-0.032455</td>\n",
       "      <td>-0.058552</td>\n",
       "      <td>5.99</td>\n",
       "    </tr>\n",
       "    <tr>\n",
       "      <th>85418</th>\n",
       "      <td>-1.497933</td>\n",
       "      <td>0.657921</td>\n",
       "      <td>1.581568</td>\n",
       "      <td>-0.024286</td>\n",
       "      <td>0.584698</td>\n",
       "      <td>1.303031</td>\n",
       "      <td>0.609212</td>\n",
       "      <td>0.135561</td>\n",
       "      <td>0.452745</td>\n",
       "      <td>0.108640</td>\n",
       "      <td>...</td>\n",
       "      <td>-0.225079</td>\n",
       "      <td>-0.072452</td>\n",
       "      <td>0.299172</td>\n",
       "      <td>0.110048</td>\n",
       "      <td>-0.615980</td>\n",
       "      <td>-0.425883</td>\n",
       "      <td>0.263968</td>\n",
       "      <td>-0.448445</td>\n",
       "      <td>0.045178</td>\n",
       "      <td>36.99</td>\n",
       "    </tr>\n",
       "    <tr>\n",
       "      <th>29062</th>\n",
       "      <td>1.069777</td>\n",
       "      <td>0.072105</td>\n",
       "      <td>0.496540</td>\n",
       "      <td>1.505318</td>\n",
       "      <td>-0.380277</td>\n",
       "      <td>-0.370243</td>\n",
       "      <td>0.100551</td>\n",
       "      <td>-0.026687</td>\n",
       "      <td>0.319684</td>\n",
       "      <td>-0.131553</td>\n",
       "      <td>...</td>\n",
       "      <td>-0.149402</td>\n",
       "      <td>-0.061991</td>\n",
       "      <td>-0.044629</td>\n",
       "      <td>-0.050485</td>\n",
       "      <td>0.400171</td>\n",
       "      <td>0.593314</td>\n",
       "      <td>-0.335160</td>\n",
       "      <td>0.031014</td>\n",
       "      <td>0.024886</td>\n",
       "      <td>45.42</td>\n",
       "    </tr>\n",
       "    <tr>\n",
       "      <th>13766</th>\n",
       "      <td>1.280465</td>\n",
       "      <td>0.300586</td>\n",
       "      <td>0.333044</td>\n",
       "      <td>0.512720</td>\n",
       "      <td>0.065052</td>\n",
       "      <td>-0.145844</td>\n",
       "      <td>-0.145519</td>\n",
       "      <td>-0.091833</td>\n",
       "      <td>1.111187</td>\n",
       "      <td>-0.268878</td>\n",
       "      <td>...</td>\n",
       "      <td>-0.093783</td>\n",
       "      <td>-0.409934</td>\n",
       "      <td>-0.961351</td>\n",
       "      <td>0.033153</td>\n",
       "      <td>-0.560429</td>\n",
       "      <td>0.278428</td>\n",
       "      <td>0.089546</td>\n",
       "      <td>-0.059835</td>\n",
       "      <td>-0.005887</td>\n",
       "      <td>0.89</td>\n",
       "    </tr>\n",
       "    <tr>\n",
       "      <th>17677</th>\n",
       "      <td>-0.598120</td>\n",
       "      <td>0.775041</td>\n",
       "      <td>1.823394</td>\n",
       "      <td>0.312991</td>\n",
       "      <td>-0.096171</td>\n",
       "      <td>-0.391452</td>\n",
       "      <td>0.499351</td>\n",
       "      <td>0.071224</td>\n",
       "      <td>-0.017496</td>\n",
       "      <td>-0.512312</td>\n",
       "      <td>...</td>\n",
       "      <td>0.102259</td>\n",
       "      <td>0.060615</td>\n",
       "      <td>0.568083</td>\n",
       "      <td>-0.084001</td>\n",
       "      <td>0.685003</td>\n",
       "      <td>-0.245859</td>\n",
       "      <td>0.356638</td>\n",
       "      <td>0.378580</td>\n",
       "      <td>0.206366</td>\n",
       "      <td>6.99</td>\n",
       "    </tr>\n",
       "  </tbody>\n",
       "</table>\n",
       "<p>227451 rows × 29 columns</p>\n",
       "</div>"
      ]
     },
     "execution_count": 41,
     "metadata": {},
     "output_type": "execute_result"
    }
   ],
   "execution_count": 41
  },
  {
   "metadata": {
    "ExecuteTime": {
     "end_time": "2024-11-07T12:36:21.819666Z",
     "start_time": "2024-11-07T12:36:21.700157Z"
    }
   },
   "cell_type": "code",
   "source": [
    "scaler = MinMaxScaler(feature_range=(0, 1))\n",
    "\n",
    "X_train_scaled = scaler.fit_transform(train_data.copy())\n",
    "X_test_scaled = scaler.fit_transform(X_test)"
   ],
   "id": "8a214f06259e48b5",
   "outputs": [],
   "execution_count": 42
  },
  {
   "metadata": {},
   "cell_type": "markdown",
   "source": "## Defining model",
   "id": "c2266495c9136025"
  },
  {
   "metadata": {
    "ExecuteTime": {
     "end_time": "2024-11-07T12:36:21.827668Z",
     "start_time": "2024-11-07T12:36:21.820664Z"
    }
   },
   "cell_type": "code",
   "source": [
    "class Autoencoder(Model):\n",
    "\tdef __init__(self):\n",
    "\t\tsuper().__init__()\n",
    "\t\t\n",
    "\t\tself.encoder = Sequential([\n",
    "\t\t\tDense(64, activation='relu'),\n",
    "\t\t\tDropout(0.1),\n",
    "\t\t\tDense(32, activation='relu'),\n",
    "\t\t])\n",
    "\t\t\n",
    "\t\tself.code = Sequential([\n",
    "\t\t\tDense(16, activation='relu')\n",
    "\t\t])\n",
    "\t\t\n",
    "\t\tself.decoder = Sequential([\n",
    "\t\t\tDense(32, activation='relu'),\n",
    "\t\t\tDropout(0.1),\n",
    "\t\t\tDense(64, activation='relu'),\n",
    "\t\t\tDropout(0.1),\n",
    "\t\t\tDense(X_train.shape[1], activation='sigmoid')\n",
    "\t\t])\n",
    "\t\t\n",
    "\tdef call(self, inputs, *args):\n",
    "\t\tencoded_inputs = self.encoder(inputs)\n",
    "\t\tcode = self.code(encoded_inputs)\n",
    "\t\tdecoded_inputs = self.decoder(code)\n",
    "\t\treturn decoded_inputs"
   ],
   "id": "3cb8e4d28c7b393a",
   "outputs": [],
   "execution_count": 43
  },
  {
   "metadata": {},
   "cell_type": "markdown",
   "source": "## Training the model",
   "id": "1c4aa212798fbce9"
  },
  {
   "metadata": {
    "ExecuteTime": {
     "end_time": "2024-11-07T12:36:21.864738Z",
     "start_time": "2024-11-07T12:36:21.828664Z"
    }
   },
   "cell_type": "code",
   "source": [
    "model = Autoencoder()\n",
    "\n",
    "model.compile(optimizer='adam', loss='mse')"
   ],
   "id": "cc8bb81bc91d5ff0",
   "outputs": [],
   "execution_count": 44
  },
  {
   "metadata": {
    "ExecuteTime": {
     "end_time": "2024-11-07T12:37:09.535900Z",
     "start_time": "2024-11-07T12:36:22.776427Z"
    }
   },
   "cell_type": "code",
   "source": "history = model.fit(X_train_scaled, X_train_scaled, epochs=10, batch_size=128, validation_data=(X_test_scaled, X_test_scaled))",
   "id": "3bc459684c852c19",
   "outputs": [
    {
     "name": "stdout",
     "output_type": "stream",
     "text": [
      "Epoch 1/10\n",
      "1777/1777 [==============================] - 6s 3ms/step - loss: 0.0025 - val_loss: 0.0167\n",
      "Epoch 2/10\n",
      "1777/1777 [==============================] - 4s 3ms/step - loss: 8.2955e-04 - val_loss: 0.0158\n",
      "Epoch 3/10\n",
      "1777/1777 [==============================] - 4s 2ms/step - loss: 6.5749e-04 - val_loss: 0.0152\n",
      "Epoch 4/10\n",
      "1777/1777 [==============================] - 5s 3ms/step - loss: 5.9066e-04 - val_loss: 0.0146\n",
      "Epoch 5/10\n",
      "1777/1777 [==============================] - 4s 2ms/step - loss: 5.4849e-04 - val_loss: 0.0143\n",
      "Epoch 6/10\n",
      "1777/1777 [==============================] - 4s 2ms/step - loss: 5.1880e-04 - val_loss: 0.0143\n",
      "Epoch 7/10\n",
      "1777/1777 [==============================] - 5s 3ms/step - loss: 5.0108e-04 - val_loss: 0.0142\n",
      "Epoch 8/10\n",
      "1777/1777 [==============================] - 5s 3ms/step - loss: 4.8726e-04 - val_loss: 0.0141\n",
      "Epoch 9/10\n",
      "1777/1777 [==============================] - 5s 3ms/step - loss: 4.7413e-04 - val_loss: 0.0139\n",
      "Epoch 10/10\n",
      "1777/1777 [==============================] - 5s 3ms/step - loss: 4.6141e-04 - val_loss: 0.0138\n"
     ]
    }
   ],
   "execution_count": 45
  },
  {
   "metadata": {
    "ExecuteTime": {
     "end_time": "2024-11-07T12:37:09.747525Z",
     "start_time": "2024-11-07T12:37:09.649397Z"
    }
   },
   "cell_type": "code",
   "source": [
    "plt.plot(history.history['loss'], label='Training Loss')\n",
    "plt.plot(history.history['val_loss'], label='Validation Loss')\n",
    "plt.xlabel(\"Epochs\")\n",
    "plt.ylabel(\"Loss\")\n",
    "plt.legend()\n",
    "plt.show()"
   ],
   "id": "ab768f7d80c19a12",
   "outputs": [
    {
     "data": {
      "text/plain": [
       "<Figure size 640x480 with 1 Axes>"
      ],
      "image/png": "[encoded data removed]"
     },
     "metadata": {},
     "output_type": "display_data"
    }
   ],
   "execution_count": 46
  },
  {
   "metadata": {},
   "cell_type": "markdown",
   "source": "## Finding threshold for fraud transaction",
   "id": "82c51e25d784bd75"
  },
  {
   "metadata": {
    "ExecuteTime": {
     "end_time": "2024-11-07T12:37:09.757820Z",
     "start_time": "2024-11-07T12:37:09.749520Z"
    }
   },
   "cell_type": "code",
   "source": [
    "def find_threshold(model, x_train_scaled):\n",
    "  reconstructions = model.predict(x_train_scaled)\n",
    "  reconstruction_errors = tf.keras.losses.msle(reconstructions, x_train_scaled)\n",
    "  threshold = np.mean(reconstruction_errors.numpy()) + np.std(reconstruction_errors.numpy())\n",
    "  return threshold\n",
    "\n",
    "def get_predictions(model, x_test_scaled, threshold):\n",
    "  predictions = model.predict(x_test_scaled)\n",
    "  errors = tf.keras.losses.msle(predictions, x_test_scaled)\n",
    "  anomaly_mask = pd.Series(errors) > threshold\n",
    "  preds = anomaly_mask.map(lambda x: 0.0 if x == True else 1.0)\n",
    "  return preds"
   ],
   "id": "5c58a7d1dc368c3b",
   "outputs": [],
   "execution_count": 47
  },
  {
   "metadata": {
    "ExecuteTime": {
     "end_time": "2024-11-07T12:37:18.001864Z",
     "start_time": "2024-11-07T12:37:09.759811Z"
    }
   },
   "cell_type": "code",
   "source": [
    "threshold = find_threshold(model, X_train_scaled)\n",
    "print(f'Threshold: {threshold}')"
   ],
   "id": "79ebdb510494da01",
   "outputs": [
    {
     "name": "stdout",
     "output_type": "stream",
     "text": [
      "7108/7108 [==============================] - 6s 851us/step\n",
      "Threshold: 0.000489491093219802\n"
     ]
    }
   ],
   "execution_count": 48
  },
  {
   "metadata": {},
   "cell_type": "markdown",
   "source": "## Making predictions",
   "id": "eb1e55c0e708f314"
  },
  {
   "metadata": {
    "ExecuteTime": {
     "end_time": "2024-11-07T12:37:20.111805Z",
     "start_time": "2024-11-07T12:37:18.002856Z"
    }
   },
   "cell_type": "code",
   "source": [
    "y_preds = get_predictions(model, X_test_scaled, threshold)\n",
    "\n",
    "print(accuracy_score(y_test, y_preds))"
   ],
   "id": "fd7f40138991eb08",
   "outputs": [
    {
     "name": "stdout",
     "output_type": "stream",
     "text": [
      "1781/1781 [==============================] - 2s 868us/step\n",
      "0.9982795547909132\n"
     ]
    }
   ],
   "execution_count": 49
  },
  {
   "metadata": {
    "ExecuteTime": {
     "end_time": "2024-11-07T12:37:22.162464Z",
     "start_time": "2024-11-07T12:37:20.112792Z"
    }
   },
   "cell_type": "code",
   "source": [
    "predictions = model.predict(X_test_scaled)\n",
    "mse = tf.keras.losses.mse(predictions, X_test_scaled)"
   ],
   "id": "b123216a47165ba1",
   "outputs": [
    {
     "name": "stdout",
     "output_type": "stream",
     "text": [
      "1781/1781 [==============================] - 2s 843us/step\n"
     ]
    }
   ],
   "execution_count": 50
  },
  {
   "metadata": {
    "ExecuteTime": {
     "end_time": "2024-11-07T12:37:22.351252Z",
     "start_time": "2024-11-07T12:37:22.164381Z"
    }
   },
   "cell_type": "code",
   "source": [
    "plt.plot(mse, marker='o', linestyle='', markersize=3, label='MSE', )\n",
    "plt.axhline(threshold, color='r', linestyle='--', label='Anomaly Threshold')\n",
    "plt.xlabel('Sample Index')\n",
    "plt.ylabel('MSE')\n",
    "plt.title('Anomaly Detection Results')\n",
    "plt.legend()\n",
    "plt.show()"
   ],
   "id": "ec9231cefdb34312",
   "outputs": [
    {
     "data": {
      "text/plain": [
       "<Figure size 640x480 with 1 Axes>"
      ],
      "image/png": "[encoded data removed]"
     },
     "metadata": {},
     "output_type": "display_data"
    }
   ],
   "execution_count": 51
  },
  {
   "metadata": {},
   "cell_type": "markdown",
   "source": "# Extras",
   "id": "20d751569a9478a4"
  },
  {
   "metadata": {},
   "cell_type": "markdown",
   "source": "# Using SMOTE for handling class imbalance",
   "id": "91826289c7070ffa"
  },
  {
   "metadata": {
    "ExecuteTime": {
     "end_time": "2024-10-31T15:57:07.708532Z",
     "start_time": "2024-10-31T15:57:07.704377Z"
    }
   },
   "cell_type": "code",
   "source": "from imblearn.over_sampling import SMOTE",
   "id": "43328897a013ece2",
   "outputs": [],
   "execution_count": 19
  },
  {
   "metadata": {
    "ExecuteTime": {
     "end_time": "2024-10-31T15:57:08.464872Z",
     "start_time": "2024-10-31T15:57:07.958958Z"
    }
   },
   "cell_type": "code",
   "source": [
    "smote = SMOTE(random_state=42)\n",
    "X_train_sampled, y_train_sampled = smote.fit_resample(X_train, y_train)\n",
    "\n",
    "smote = SMOTE(random_state=42)\n",
    "X_test_sampled, y_test_sampled = smote.fit_resample(X_test, y_test)"
   ],
   "id": "274a055bd85a1756",
   "outputs": [],
   "execution_count": 20
  },
  {
   "metadata": {
    "ExecuteTime": {
     "end_time": "2024-10-31T15:57:08.837526Z",
     "start_time": "2024-10-31T15:57:08.818501Z"
    }
   },
   "cell_type": "code",
   "source": [
    "model = Autoencoder()\n",
    "\n",
    "model.compile(optimizer='adam', loss='mse', metrics=['accuracy'])"
   ],
   "id": "5158321a46db7cf1",
   "outputs": [],
   "execution_count": 21
  },
  {
   "metadata": {
    "ExecuteTime": {
     "end_time": "2024-10-31T15:59:44.805506Z",
     "start_time": "2024-10-31T15:57:09.367761Z"
    }
   },
   "cell_type": "code",
   "source": "history1 = model.fit(X_train_sampled, X_train_sampled, epochs=10, validation_data=(X_test_sampled, X_test_sampled))",
   "id": "aaef5c73cd485402",
   "outputs": [
    {
     "name": "stdout",
     "output_type": "stream",
     "text": [
      "Epoch 1/10\n",
      "12438/12438 [==============================] - 16s 1ms/step - loss: 26.2095 - accuracy: 0.8671 - val_loss: 13.8113 - val_accuracy: 0.9110\n",
      "Epoch 2/10\n",
      "12438/12438 [==============================] - 15s 1ms/step - loss: 11.2592 - accuracy: 0.9307 - val_loss: 13.7872 - val_accuracy: 0.9202\n",
      "Epoch 3/10\n",
      "12438/12438 [==============================] - 15s 1ms/step - loss: 11.0653 - accuracy: 0.9305 - val_loss: 13.4958 - val_accuracy: 0.9264\n",
      "Epoch 4/10\n",
      "12438/12438 [==============================] - 15s 1ms/step - loss: 10.6492 - accuracy: 0.9425 - val_loss: 13.4008 - val_accuracy: 0.9454\n",
      "Epoch 5/10\n",
      "12438/12438 [==============================] - 18s 1ms/step - loss: 10.7330 - accuracy: 0.9460 - val_loss: 13.4401 - val_accuracy: 0.9428\n",
      "Epoch 6/10\n",
      "12438/12438 [==============================] - 16s 1ms/step - loss: 10.6636 - accuracy: 0.9473 - val_loss: 13.4262 - val_accuracy: 0.9378\n",
      "Epoch 7/10\n",
      "12438/12438 [==============================] - 15s 1ms/step - loss: 10.6734 - accuracy: 0.9495 - val_loss: 13.3728 - val_accuracy: 0.9526\n",
      "Epoch 8/10\n",
      "12438/12438 [==============================] - 15s 1ms/step - loss: 10.7281 - accuracy: 0.9473 - val_loss: 13.6574 - val_accuracy: 0.9404\n",
      "Epoch 9/10\n",
      "12438/12438 [==============================] - 15s 1ms/step - loss: 10.6852 - accuracy: 0.9445 - val_loss: 13.6982 - val_accuracy: 0.9430\n",
      "Epoch 10/10\n",
      "12438/12438 [==============================] - 15s 1ms/step - loss: 10.5866 - accuracy: 0.9474 - val_loss: 13.6621 - val_accuracy: 0.9411\n"
     ]
    }
   ],
   "execution_count": 22
  },
  {
   "metadata": {
    "ExecuteTime": {
     "end_time": "2024-10-31T15:59:48.060070Z",
     "start_time": "2024-10-31T15:59:47.966451Z"
    }
   },
   "cell_type": "code",
   "source": [
    "plt.plot(history1.history['accuracy'], label='Training Accuracy')\n",
    "plt.plot(history1.history['val_accuracy'], label='Validation Accuracy')\n",
    "plt.xlabel(\"Epochs\")\n",
    "plt.ylabel(\"Accuracy\")\n",
    "plt.legend()\n",
    "plt.show()"
   ],
   "id": "cee1b1172aef1885",
   "outputs": [
    {
     "data": {
      "text/plain": [
       "<Figure size 640x480 with 1 Axes>"
      ],
      "image/png": "[encoded data removed]"
     },
     "metadata": {},
     "output_type": "display_data"
    }
   ],
   "execution_count": 23
  },
  {
   "metadata": {
    "ExecuteTime": {
     "end_time": "2024-10-31T15:59:50.196888Z",
     "start_time": "2024-10-31T15:59:50.112640Z"
    }
   },
   "cell_type": "code",
   "source": [
    "plt.plot(history1.history['loss'], label='Training Loss')\n",
    "plt.plot(history1.history['val_loss'], label='Validation Loss')\n",
    "plt.xlabel(\"Epochs\")\n",
    "plt.ylabel(\"Loss\")\n",
    "plt.legend()\n",
    "plt.show()"
   ],
   "id": "cbe19822b28b4779",
   "outputs": [
    {
     "data": {
      "text/plain": [
       "<Figure size 640x480 with 1 Axes>"
      ],
      "image/png": "[encoded data removed]"
     },
     "metadata": {},
     "output_type": "display_data"
    }
   ],
   "execution_count": 24
  },
  {
   "metadata": {
    "ExecuteTime": {
     "end_time": "2024-10-31T16:00:06.345075Z",
     "start_time": "2024-10-31T15:59:53.599540Z"
    }
   },
   "cell_type": "code",
   "source": [
    "threshold = find_threshold(model, X_train_sampled)\n",
    "print(f'Threshold: {threshold}')"
   ],
   "id": "be649d51beb6f760",
   "outputs": [
    {
     "name": "stdout",
     "output_type": "stream",
     "text": [
      "12438/12438 [==============================] - 9s 696us/step\n",
      "Threshold: 0.14403237402439117\n"
     ]
    }
   ],
   "execution_count": 25
  },
  {
   "metadata": {
    "ExecuteTime": {
     "end_time": "2024-10-31T16:00:11.887875Z",
     "start_time": "2024-10-31T16:00:09.322677Z"
    }
   },
   "cell_type": "code",
   "source": [
    "y_preds = get_predictions(model, X_test, threshold)\n",
    "print(accuracy_score(y_test, y_preds))"
   ],
   "id": "2fdd07419de24c9f",
   "outputs": [
    {
     "name": "stdout",
     "output_type": "stream",
     "text": [
      "2671/2671 [==============================] - 2s 663us/step\n",
      "0.14154465550132836\n"
     ]
    }
   ],
   "execution_count": 26
  },
  {
   "metadata": {},
   "cell_type": "code",
   "outputs": [],
   "execution_count": null,
   "source": "",
   "id": "3e8484d9d0555905"
  }
 ],
 "metadata": {
  "kernelspec": {
   "display_name": "Python 3",
   "language": "python",
   "name": "python3"
  },
  "language_info": {
   "codemirror_mode": {
    "name": "ipython",
    "version": 2
   },
   "file_extension": ".py",
   "mimetype": "text/x-python",
   "name": "python",
   "nbconvert_exporter": "python",
   "pygments_lexer": "ipython2",
   "version": "2.7.6"
  }
 },
 "nbformat": 4,
 "nbformat_minor": 5
}
