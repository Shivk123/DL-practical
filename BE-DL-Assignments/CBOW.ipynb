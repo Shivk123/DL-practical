{
 "cells": [
  {
   "cell_type": "code",
   "id": "initial_id",
   "metadata": {
    "collapsed": true,
    "ExecuteTime": {
     "end_time": "2024-11-07T11:08:18.100668Z",
     "start_time": "2024-11-07T11:08:11.138136Z"
    }
   },
   "source": [
    "import numpy as np\n",
    "\n",
    "from sklearn.model_selection import train_test_split\n",
    "from sklearn.decomposition import PCA\n",
    "\n",
    "import matplotlib.pyplot as plt\n",
    "\n",
    "import tensorflow as tf\n",
    "from tensorflow.keras.layers import Embedding, Dense, Lambda\n",
    "from tensorflow.keras.preprocessing.text import Tokenizer\n",
    "from tensorflow.keras.models import Sequential"
   ],
   "outputs": [
    {
     "name": "stdout",
     "output_type": "stream",
     "text": [
      "WARNING:tensorflow:From C:\\Users\\rupes\\AppData\\Roaming\\Python\\Python311\\site-packages\\keras\\src\\losses.py:2976: The name tf.losses.sparse_softmax_cross_entropy is deprecated. Please use tf.compat.v1.losses.sparse_softmax_cross_entropy instead.\n",
      "\n"
     ]
    }
   ],
   "execution_count": 1
  },
  {
   "metadata": {
    "ExecuteTime": {
     "end_time": "2024-11-07T11:08:18.109730Z",
     "start_time": "2024-11-07T11:08:18.102189Z"
    }
   },
   "cell_type": "code",
   "source": [
    "with open('./cbow.txt', 'r') as file:\n",
    "    text = file.read()\n",
    "    \n",
    "text"
   ],
   "id": "26ab454bf1af7197",
   "outputs": [
    {
     "data": {
      "text/plain": [
       "'The speed of transmission is an important point of difference between the two viruses. Influenza has a shorter median incubation period and a shorter serial interval than COVID-19 virus. The serial interval for COVID-19 virus is estimated to be 5-6 days, while for influenza virus, the serial interval is 3 days. This means that influenza can spread faster than COVID-19.\\n\\nFurther, transmission in the first 3-5 days of illness, or potentially pre-symptomatic transmission is a major driver of transmission for influenza. In contrast, while we are learning that there are people who can shed COVID-19 virus 24-48 hours prior to symptom onset, at present, this does not appear to be a major driver of transmission.\\n\\nThe reproductive number is understood to be between 2 and 2.5 for COVID-19 virus, higher than for influenza. However, estimates for both COVID-19 and influenza viruses are very context and time-specific, making direct comparisons more difficult.'"
      ]
     },
     "execution_count": 2,
     "metadata": {},
     "output_type": "execute_result"
    }
   ],
   "execution_count": 2
  },
  {
   "metadata": {},
   "cell_type": "markdown",
   "source": "## Preprocessing text",
   "id": "50aa080c1ed8e7c8"
  },
  {
   "metadata": {
    "ExecuteTime": {
     "end_time": "2024-11-07T11:08:18.116583Z",
     "start_time": "2024-11-07T11:08:18.111722Z"
    }
   },
   "cell_type": "code",
   "source": [
    "# Convert text to lowercase\n",
    "text = text.lower()\n",
    "\n",
    "text = text.replace('\\n', '')\n",
    "text = text.replace('(', '')\n",
    "text = text.replace(')', '')\n",
    "text = text.replace(',', '')\n",
    "text = text.replace('-', '')\n",
    "\n",
    "text"
   ],
   "id": "e42402c8d0e1bf94",
   "outputs": [
    {
     "data": {
      "text/plain": [
       "'the speed of transmission is an important point of difference between the two viruses. influenza has a shorter median incubation period and a shorter serial interval than covid19 virus. the serial interval for covid19 virus is estimated to be 56 days while for influenza virus the serial interval is 3 days. this means that influenza can spread faster than covid19.further transmission in the first 35 days of illness or potentially presymptomatic transmission is a major driver of transmission for influenza. in contrast while we are learning that there are people who can shed covid19 virus 2448 hours prior to symptom onset at present this does not appear to be a major driver of transmission.the reproductive number is understood to be between 2 and 2.5 for covid19 virus higher than for influenza. however estimates for both covid19 and influenza viruses are very context and timespecific making direct comparisons more difficult.'"
      ]
     },
     "execution_count": 3,
     "metadata": {},
     "output_type": "execute_result"
    }
   ],
   "execution_count": 3
  },
  {
   "metadata": {
    "ExecuteTime": {
     "end_time": "2024-11-07T11:08:18.122605Z",
     "start_time": "2024-11-07T11:08:18.117576Z"
    }
   },
   "cell_type": "code",
   "source": [
    "cleaned_text = ''\n",
    "\n",
    "for word in text:\n",
    "    if not word.isdigit():\n",
    "        cleaned_text += word\n",
    "        \n",
    "cleaned_text"
   ],
   "id": "1d03719c4b7a5f92",
   "outputs": [
    {
     "data": {
      "text/plain": [
       "'the speed of transmission is an important point of difference between the two viruses. influenza has a shorter median incubation period and a shorter serial interval than covid virus. the serial interval for covid virus is estimated to be  days while for influenza virus the serial interval is  days. this means that influenza can spread faster than covid.further transmission in the first  days of illness or potentially presymptomatic transmission is a major driver of transmission for influenza. in contrast while we are learning that there are people who can shed covid virus  hours prior to symptom onset at present this does not appear to be a major driver of transmission.the reproductive number is understood to be between  and . for covid virus higher than for influenza. however estimates for both covid and influenza viruses are very context and timespecific making direct comparisons more difficult.'"
      ]
     },
     "execution_count": 4,
     "metadata": {},
     "output_type": "execute_result"
    }
   ],
   "execution_count": 4
  },
  {
   "metadata": {
    "ExecuteTime": {
     "end_time": "2024-11-07T11:08:18.130263Z",
     "start_time": "2024-11-07T11:08:18.124606Z"
    }
   },
   "cell_type": "code",
   "source": [
    "# Splitting the text into sentences\n",
    "sentences = cleaned_text.split('. ')\n",
    "sentences"
   ],
   "id": "6105e97061dba42e",
   "outputs": [
    {
     "data": {
      "text/plain": [
       "['the speed of transmission is an important point of difference between the two viruses',\n",
       " 'influenza has a shorter median incubation period and a shorter serial interval than covid virus',\n",
       " 'the serial interval for covid virus is estimated to be  days while for influenza virus the serial interval is  days',\n",
       " 'this means that influenza can spread faster than covid.further transmission in the first  days of illness or potentially presymptomatic transmission is a major driver of transmission for influenza',\n",
       " 'in contrast while we are learning that there are people who can shed covid virus  hours prior to symptom onset at present this does not appear to be a major driver of transmission.the reproductive number is understood to be between  and ',\n",
       " 'for covid virus higher than for influenza',\n",
       " 'however estimates for both covid and influenza viruses are very context and timespecific making direct comparisons more difficult.']"
      ]
     },
     "execution_count": 5,
     "metadata": {},
     "output_type": "execute_result"
    }
   ],
   "execution_count": 5
  },
  {
   "metadata": {
    "ExecuteTime": {
     "end_time": "2024-11-07T11:08:18.135948Z",
     "start_time": "2024-11-07T11:08:18.131254Z"
    }
   },
   "cell_type": "code",
   "source": [
    "# Tokenizing the sentences\n",
    "\n",
    "tokenizer = Tokenizer()\n",
    "tokenizer.fit_on_texts(sentences)\n",
    "sequences = tokenizer.texts_to_sequences(sentences)\n",
    "print(sequences)"
   ],
   "id": "848d7892c8dfcf0d",
   "outputs": [
    {
     "name": "stdout",
     "output_type": "stream",
     "text": [
      "[[1, 28, 5, 6, 7, 29, 30, 31, 5, 32, 18, 1, 33, 19], [2, 34, 9, 20, 35, 36, 37, 10, 9, 20, 12, 13, 14, 3, 8], [1, 12, 13, 4, 3, 8, 7, 38, 11, 15, 16, 21, 4, 2, 8, 1, 12, 13, 7, 16], [22, 39, 23, 2, 24, 40, 41, 14, 3, 42, 6, 25, 1, 43, 16, 5, 44, 45, 46, 47, 6, 7, 9, 26, 27, 5, 6, 4, 2], [25, 48, 21, 49, 17, 50, 23, 51, 17, 52, 53, 24, 54, 3, 8, 55, 56, 11, 57, 58, 59, 60, 22, 61, 62, 63, 11, 15, 9, 26, 27, 5, 6, 1, 64, 65, 7, 66, 11, 15, 18, 10], [4, 3, 8, 67, 14, 4, 2], [68, 69, 4, 70, 3, 10, 2, 19, 17, 71, 72, 10, 73, 74, 75, 76, 77, 78]]\n"
     ]
    }
   ],
   "execution_count": 6
  },
  {
   "metadata": {
    "ExecuteTime": {
     "end_time": "2024-11-07T11:08:18.140234Z",
     "start_time": "2024-11-07T11:08:18.136945Z"
    }
   },
   "cell_type": "code",
   "source": [
    "idx2word = tokenizer.index_word\n",
    "word2idx = tokenizer.word_index\n",
    "\n",
    "print(idx2word, '\\n')\n",
    "print(word2idx)"
   ],
   "id": "ef2f29f9ff7bc270",
   "outputs": [
    {
     "name": "stdout",
     "output_type": "stream",
     "text": [
      "{1: 'the', 2: 'influenza', 3: 'covid', 4: 'for', 5: 'of', 6: 'transmission', 7: 'is', 8: 'virus', 9: 'a', 10: 'and', 11: 'to', 12: 'serial', 13: 'interval', 14: 'than', 15: 'be', 16: 'days', 17: 'are', 18: 'between', 19: 'viruses', 20: 'shorter', 21: 'while', 22: 'this', 23: 'that', 24: 'can', 25: 'in', 26: 'major', 27: 'driver', 28: 'speed', 29: 'an', 30: 'important', 31: 'point', 32: 'difference', 33: 'two', 34: 'has', 35: 'median', 36: 'incubation', 37: 'period', 38: 'estimated', 39: 'means', 40: 'spread', 41: 'faster', 42: 'further', 43: 'first', 44: 'illness', 45: 'or', 46: 'potentially', 47: 'presymptomatic', 48: 'contrast', 49: 'we', 50: 'learning', 51: 'there', 52: 'people', 53: 'who', 54: 'shed', 55: 'hours', 56: 'prior', 57: 'symptom', 58: 'onset', 59: 'at', 60: 'present', 61: 'does', 62: 'not', 63: 'appear', 64: 'reproductive', 65: 'number', 66: 'understood', 67: 'higher', 68: 'however', 69: 'estimates', 70: 'both', 71: 'very', 72: 'context', 73: 'timespecific', 74: 'making', 75: 'direct', 76: 'comparisons', 77: 'more', 78: 'difficult'} \n",
      "\n",
      "{'the': 1, 'influenza': 2, 'covid': 3, 'for': 4, 'of': 5, 'transmission': 6, 'is': 7, 'virus': 8, 'a': 9, 'and': 10, 'to': 11, 'serial': 12, 'interval': 13, 'than': 14, 'be': 15, 'days': 16, 'are': 17, 'between': 18, 'viruses': 19, 'shorter': 20, 'while': 21, 'this': 22, 'that': 23, 'can': 24, 'in': 25, 'major': 26, 'driver': 27, 'speed': 28, 'an': 29, 'important': 30, 'point': 31, 'difference': 32, 'two': 33, 'has': 34, 'median': 35, 'incubation': 36, 'period': 37, 'estimated': 38, 'means': 39, 'spread': 40, 'faster': 41, 'further': 42, 'first': 43, 'illness': 44, 'or': 45, 'potentially': 46, 'presymptomatic': 47, 'contrast': 48, 'we': 49, 'learning': 50, 'there': 51, 'people': 52, 'who': 53, 'shed': 54, 'hours': 55, 'prior': 56, 'symptom': 57, 'onset': 58, 'at': 59, 'present': 60, 'does': 61, 'not': 62, 'appear': 63, 'reproductive': 64, 'number': 65, 'understood': 66, 'higher': 67, 'however': 68, 'estimates': 69, 'both': 70, 'very': 71, 'context': 72, 'timespecific': 73, 'making': 74, 'direct': 75, 'comparisons': 76, 'more': 77, 'difficult': 78}\n"
     ]
    }
   ],
   "execution_count": 7
  },
  {
   "metadata": {},
   "cell_type": "markdown",
   "source": "## Creating contexts and targets",
   "id": "b1bc581431bf6da3"
  },
  {
   "metadata": {
    "ExecuteTime": {
     "end_time": "2024-11-07T11:08:18.146465Z",
     "start_time": "2024-11-07T11:08:18.141233Z"
    }
   },
   "cell_type": "code",
   "source": [
    "vocab_size = len(tokenizer.word_index) + 1\n",
    "emb_size = 100\n",
    "context_size = 3\n",
    "\n",
    "contexts = []\n",
    "targets = []\n",
    "\n",
    "for sequence in sequences:\n",
    "    if len(sequence) >= 2 * context_size + 1:\n",
    "        for i in range(context_size, len(sequence) - context_size):\n",
    "            target = sequence[i]\n",
    "            context = sequence[i-context_size:i] + sequence[i+1:i+context_size+1]\n",
    "            contexts.append(context)\n",
    "            targets.append(target)\n",
    "\n",
    "print(contexts, \"\\n\")\n",
    "print(targets)"
   ],
   "id": "a005a04b18db86e1",
   "outputs": [
    {
     "name": "stdout",
     "output_type": "stream",
     "text": [
      "[[1, 28, 5, 7, 29, 30], [28, 5, 6, 29, 30, 31], [5, 6, 7, 30, 31, 5], [6, 7, 29, 31, 5, 32], [7, 29, 30, 5, 32, 18], [29, 30, 31, 32, 18, 1], [30, 31, 5, 18, 1, 33], [31, 5, 32, 1, 33, 19], [2, 34, 9, 35, 36, 37], [34, 9, 20, 36, 37, 10], [9, 20, 35, 37, 10, 9], [20, 35, 36, 10, 9, 20], [35, 36, 37, 9, 20, 12], [36, 37, 10, 20, 12, 13], [37, 10, 9, 12, 13, 14], [10, 9, 20, 13, 14, 3], [9, 20, 12, 14, 3, 8], [1, 12, 13, 3, 8, 7], [12, 13, 4, 8, 7, 38], [13, 4, 3, 7, 38, 11], [4, 3, 8, 38, 11, 15], [3, 8, 7, 11, 15, 16], [8, 7, 38, 15, 16, 21], [7, 38, 11, 16, 21, 4], [38, 11, 15, 21, 4, 2], [11, 15, 16, 4, 2, 8], [15, 16, 21, 2, 8, 1], [16, 21, 4, 8, 1, 12], [21, 4, 2, 1, 12, 13], [4, 2, 8, 12, 13, 7], [2, 8, 1, 13, 7, 16], [22, 39, 23, 24, 40, 41], [39, 23, 2, 40, 41, 14], [23, 2, 24, 41, 14, 3], [2, 24, 40, 14, 3, 42], [24, 40, 41, 3, 42, 6], [40, 41, 14, 42, 6, 25], [41, 14, 3, 6, 25, 1], [14, 3, 42, 25, 1, 43], [3, 42, 6, 1, 43, 16], [42, 6, 25, 43, 16, 5], [6, 25, 1, 16, 5, 44], [25, 1, 43, 5, 44, 45], [1, 43, 16, 44, 45, 46], [43, 16, 5, 45, 46, 47], [16, 5, 44, 46, 47, 6], [5, 44, 45, 47, 6, 7], [44, 45, 46, 6, 7, 9], [45, 46, 47, 7, 9, 26], [46, 47, 6, 9, 26, 27], [47, 6, 7, 26, 27, 5], [6, 7, 9, 27, 5, 6], [7, 9, 26, 5, 6, 4], [9, 26, 27, 6, 4, 2], [25, 48, 21, 17, 50, 23], [48, 21, 49, 50, 23, 51], [21, 49, 17, 23, 51, 17], [49, 17, 50, 51, 17, 52], [17, 50, 23, 17, 52, 53], [50, 23, 51, 52, 53, 24], [23, 51, 17, 53, 24, 54], [51, 17, 52, 24, 54, 3], [17, 52, 53, 54, 3, 8], [52, 53, 24, 3, 8, 55], [53, 24, 54, 8, 55, 56], [24, 54, 3, 55, 56, 11], [54, 3, 8, 56, 11, 57], [3, 8, 55, 11, 57, 58], [8, 55, 56, 57, 58, 59], [55, 56, 11, 58, 59, 60], [56, 11, 57, 59, 60, 22], [11, 57, 58, 60, 22, 61], [57, 58, 59, 22, 61, 62], [58, 59, 60, 61, 62, 63], [59, 60, 22, 62, 63, 11], [60, 22, 61, 63, 11, 15], [22, 61, 62, 11, 15, 9], [61, 62, 63, 15, 9, 26], [62, 63, 11, 9, 26, 27], [63, 11, 15, 26, 27, 5], [11, 15, 9, 27, 5, 6], [15, 9, 26, 5, 6, 1], [9, 26, 27, 6, 1, 64], [26, 27, 5, 1, 64, 65], [27, 5, 6, 64, 65, 7], [5, 6, 1, 65, 7, 66], [6, 1, 64, 7, 66, 11], [1, 64, 65, 66, 11, 15], [64, 65, 7, 11, 15, 18], [65, 7, 66, 15, 18, 10], [4, 3, 8, 14, 4, 2], [68, 69, 4, 3, 10, 2], [69, 4, 70, 10, 2, 19], [4, 70, 3, 2, 19, 17], [70, 3, 10, 19, 17, 71], [3, 10, 2, 17, 71, 72], [10, 2, 19, 71, 72, 10], [2, 19, 17, 72, 10, 73], [19, 17, 71, 10, 73, 74], [17, 71, 72, 73, 74, 75], [71, 72, 10, 74, 75, 76], [72, 10, 73, 75, 76, 77], [10, 73, 74, 76, 77, 78]] \n",
      "\n",
      "[6, 7, 29, 30, 31, 5, 32, 18, 20, 35, 36, 37, 10, 9, 20, 12, 13, 4, 3, 8, 7, 38, 11, 15, 16, 21, 4, 2, 8, 1, 12, 2, 24, 40, 41, 14, 3, 42, 6, 25, 1, 43, 16, 5, 44, 45, 46, 47, 6, 7, 9, 26, 27, 5, 49, 17, 50, 23, 51, 17, 52, 53, 24, 54, 3, 8, 55, 56, 11, 57, 58, 59, 60, 22, 61, 62, 63, 11, 15, 9, 26, 27, 5, 6, 1, 64, 65, 7, 66, 11, 67, 70, 3, 10, 2, 19, 17, 71, 72, 10, 73, 74, 75]\n"
     ]
    }
   ],
   "execution_count": 8
  },
  {
   "metadata": {
    "ExecuteTime": {
     "end_time": "2024-11-07T11:08:18.150976Z",
     "start_time": "2024-11-07T11:08:18.147459Z"
    }
   },
   "cell_type": "code",
   "source": [
    "# Printing features with target\n",
    "for i in range(5):\n",
    "    words = []\n",
    "    target = idx2word.get(targets[i])\n",
    "    for j in contexts[i]:\n",
    "        words.append(idx2word.get(j))\n",
    "    print(words,\" -> \", target)"
   ],
   "id": "e622cf0dbf35c823",
   "outputs": [
    {
     "name": "stdout",
     "output_type": "stream",
     "text": [
      "['the', 'speed', 'of', 'is', 'an', 'important']  ->  transmission\n",
      "['speed', 'of', 'transmission', 'an', 'important', 'point']  ->  is\n",
      "['of', 'transmission', 'is', 'important', 'point', 'of']  ->  an\n",
      "['transmission', 'is', 'an', 'point', 'of', 'difference']  ->  important\n",
      "['is', 'an', 'important', 'of', 'difference', 'between']  ->  point\n"
     ]
    }
   ],
   "execution_count": 9
  },
  {
   "metadata": {},
   "cell_type": "markdown",
   "source": "## Creating training and testing data",
   "id": "210a30259386ae3f"
  },
  {
   "metadata": {
    "ExecuteTime": {
     "end_time": "2024-11-07T11:08:18.154422Z",
     "start_time": "2024-11-07T11:08:18.151974Z"
    }
   },
   "cell_type": "code",
   "source": [
    "X = np.array(contexts)\n",
    "y = np.array(targets)"
   ],
   "id": "7bcd6c24b63700a7",
   "outputs": [],
   "execution_count": 10
  },
  {
   "metadata": {
    "ExecuteTime": {
     "end_time": "2024-11-07T11:08:18.162423Z",
     "start_time": "2024-11-07T11:08:18.155420Z"
    }
   },
   "cell_type": "code",
   "source": "X_train, X_test, y_train, y_test = train_test_split(X, y, test_size=0.25, random_state=42)",
   "id": "35d32ac0a40e7ecc",
   "outputs": [],
   "execution_count": 11
  },
  {
   "metadata": {
    "ExecuteTime": {
     "end_time": "2024-11-07T11:08:18.168334Z",
     "start_time": "2024-11-07T11:08:18.163421Z"
    }
   },
   "cell_type": "code",
   "source": "X_train.shape, X_test.shape, y_train.shape, y_test.shape",
   "id": "37d0b67942fad713",
   "outputs": [
    {
     "data": {
      "text/plain": [
       "((77, 6), (26, 6), (77,), (26,))"
      ]
     },
     "execution_count": 12,
     "metadata": {},
     "output_type": "execute_result"
    }
   ],
   "execution_count": 12
  },
  {
   "metadata": {},
   "cell_type": "markdown",
   "source": "## Defining model",
   "id": "4fc63d046c476780"
  },
  {
   "metadata": {
    "ExecuteTime": {
     "end_time": "2024-11-07T11:08:18.470009Z",
     "start_time": "2024-11-07T11:08:18.169342Z"
    }
   },
   "cell_type": "code",
   "source": [
    "model = Sequential([\n",
    "    Embedding(input_dim=vocab_size, output_dim=emb_size, input_length=2 * context_size),\n",
    "    Lambda(lambda x: tf.reduce_mean(x, axis=1)),\n",
    "    Dense(128, activation='relu'),\n",
    "    Dense(vocab_size, activation='softmax')\n",
    "])"
   ],
   "id": "4866e8a680bef938",
   "outputs": [
    {
     "name": "stdout",
     "output_type": "stream",
     "text": [
      "WARNING:tensorflow:From C:\\Users\\rupes\\AppData\\Roaming\\Python\\Python311\\site-packages\\keras\\src\\backend.py:873: The name tf.get_default_graph is deprecated. Please use tf.compat.v1.get_default_graph instead.\n",
      "\n"
     ]
    }
   ],
   "execution_count": 13
  },
  {
   "metadata": {
    "ExecuteTime": {
     "end_time": "2024-11-07T11:08:18.604968Z",
     "start_time": "2024-11-07T11:08:18.472666Z"
    }
   },
   "cell_type": "code",
   "source": "model.compile(optimizer='adam', loss='sparse_categorical_crossentropy')",
   "id": "fc060d3727c5a36",
   "outputs": [
    {
     "name": "stdout",
     "output_type": "stream",
     "text": [
      "WARNING:tensorflow:From C:\\Users\\rupes\\AppData\\Roaming\\Python\\Python311\\site-packages\\keras\\src\\optimizers\\__init__.py:309: The name tf.train.Optimizer is deprecated. Please use tf.compat.v1.train.Optimizer instead.\n",
      "\n"
     ]
    }
   ],
   "execution_count": 14
  },
  {
   "metadata": {
    "ExecuteTime": {
     "end_time": "2024-11-07T11:08:20.289150Z",
     "start_time": "2024-11-07T11:08:18.605950Z"
    }
   },
   "cell_type": "code",
   "source": "history = model.fit(X_train, y_train, validation_data=(X_test, y_test), epochs=30, verbose=0)",
   "id": "d02c3e340bbe5167",
   "outputs": [
    {
     "name": "stdout",
     "output_type": "stream",
     "text": [
      "WARNING:tensorflow:From C:\\Users\\rupes\\AppData\\Roaming\\Python\\Python311\\site-packages\\keras\\src\\utils\\tf_utils.py:492: The name tf.ragged.RaggedTensorValue is deprecated. Please use tf.compat.v1.ragged.RaggedTensorValue instead.\n",
      "\n"
     ]
    }
   ],
   "execution_count": 15
  },
  {
   "metadata": {},
   "cell_type": "markdown",
   "source": "## Plottting the word embeddings",
   "id": "6c06a380a6821ac5"
  },
  {
   "metadata": {
    "ExecuteTime": {
     "end_time": "2024-11-07T11:08:20.297154Z",
     "start_time": "2024-11-07T11:08:20.290155Z"
    }
   },
   "cell_type": "code",
   "source": [
    "embeddings = model.layers[0].get_weights()[0]\n",
    "embeddings"
   ],
   "id": "7c6b36f815b89104",
   "outputs": [
    {
     "data": {
      "text/plain": [
       "array([[ 0.01069734,  0.04694669,  0.03183729, ...,  0.02869416,\n",
       "         0.0281067 ,  0.01881791],\n",
       "       [-0.11716304,  0.09626372,  0.08280142, ...,  0.10986689,\n",
       "         0.01649056,  0.09640652],\n",
       "       [ 0.09405606, -0.09018736,  0.00063979, ...,  0.02683847,\n",
       "         0.0799916 ,  0.02950428],\n",
       "       ...,\n",
       "       [-0.01908225, -0.0641636 , -0.00672514, ...,  0.01614283,\n",
       "        -0.05297591,  0.09139159],\n",
       "       [-0.05436746, -0.01977087, -0.06797397, ...,  0.05041046,\n",
       "        -0.04509063,  0.08629578],\n",
       "       [-0.07048895, -0.02583991, -0.00791952, ..., -0.07071558,\n",
       "        -0.0528985 ,  0.01332755]], dtype=float32)"
      ]
     },
     "execution_count": 16,
     "metadata": {},
     "output_type": "execute_result"
    }
   ],
   "execution_count": 16
  },
  {
   "metadata": {
    "ExecuteTime": {
     "end_time": "2024-11-07T11:08:20.321745Z",
     "start_time": "2024-11-07T11:08:20.298147Z"
    }
   },
   "cell_type": "code",
   "source": [
    "# Applying PCA on the embeddings\n",
    "pca = PCA(n_components=2)\n",
    "\n",
    "reduced_embeddings = pca.fit_transform(embeddings)\n",
    "reduced_embeddings"
   ],
   "id": "1bfe9561e17e539e",
   "outputs": [
    {
     "data": {
      "text/plain": [
       "array([[ 0.05958562,  0.04744337],\n",
       "       [-0.4283896 , -0.18524903],\n",
       "       [ 0.33660084, -0.30984575],\n",
       "       [ 0.23344505, -0.20667274],\n",
       "       [-0.05534527, -0.2254935 ],\n",
       "       [-0.3873507 , -0.02756324],\n",
       "       [-0.40306333, -0.21831037],\n",
       "       [-0.3452492 , -0.13558033],\n",
       "       [ 0.0331508 ,  0.04689556],\n",
       "       [-0.4131508 , -0.06084122],\n",
       "       [ 0.08004335, -0.05229168],\n",
       "       [-0.26778227,  0.09462263],\n",
       "       [-0.16219074,  0.02249019],\n",
       "       [-0.15998763, -0.08688637],\n",
       "       [ 0.19490144, -0.2306478 ],\n",
       "       [-0.3433083 , -0.15894307],\n",
       "       [-0.1914195 ,  0.02281141],\n",
       "       [ 0.45227012, -0.08470842],\n",
       "       [-0.33064204, -0.14986786],\n",
       "       [ 0.3697782 , -0.07455712],\n",
       "       [-0.00998613,  0.11079293],\n",
       "       [ 0.12850378, -0.05816951],\n",
       "       [ 0.16255504,  0.48353896],\n",
       "       [ 0.35181215, -0.07159997],\n",
       "       [ 0.4146602 , -0.14720343],\n",
       "       [ 0.04836112, -0.16427   ],\n",
       "       [-0.5055068 , -0.14898354],\n",
       "       [-0.38095754, -0.12137071],\n",
       "       [-0.26023486, -0.04786307],\n",
       "       [-0.31450522,  0.03149266],\n",
       "       [-0.36759156, -0.06189303],\n",
       "       [-0.28051886, -0.00115984],\n",
       "       [-0.12673683,  0.17138423],\n",
       "       [-0.02677496,  0.15036322],\n",
       "       [-0.04435726,  0.12579985],\n",
       "       [-0.00851795, -0.08584765],\n",
       "       [-0.08342353,  0.06436874],\n",
       "       [-0.05684946,  0.03649056],\n",
       "       [-0.1990007 , -0.02040961],\n",
       "       [ 0.19225755, -0.13405293],\n",
       "       [ 0.43832013, -0.3329761 ],\n",
       "       [ 0.43173653, -0.26367998],\n",
       "       [ 0.22385427, -0.30331892],\n",
       "       [-0.2552629 , -0.1680969 ],\n",
       "       [-0.26891255,  0.11114663],\n",
       "       [-0.31496808,  0.01054198],\n",
       "       [-0.32711414, -0.14833453],\n",
       "       [-0.2526874 , -0.01965614],\n",
       "       [ 0.22955082,  0.01006496],\n",
       "       [ 0.3459486 , -0.05747691],\n",
       "       [ 0.3195645 , -0.0743283 ],\n",
       "       [ 0.40470138,  0.02007905],\n",
       "       [ 0.42757434, -0.00225122],\n",
       "       [ 0.36805636, -0.05933638],\n",
       "       [ 0.02694529,  0.07042661],\n",
       "       [ 0.13825187,  0.07106504],\n",
       "       [ 0.02167637,  0.17221208],\n",
       "       [ 0.08478971,  0.4361808 ],\n",
       "       [ 0.06533059,  0.46673185],\n",
       "       [ 0.0945968 ,  0.6240496 ],\n",
       "       [ 0.15915969,  0.47661066],\n",
       "       [ 0.04424869,  0.29861072],\n",
       "       [-0.18471041,  0.39634937],\n",
       "       [-0.13993047,  0.30995846],\n",
       "       [-0.35046658, -0.24307738],\n",
       "       [-0.2955596 , -0.24520412],\n",
       "       [-0.35851076, -0.13408323],\n",
       "       [-0.01896765,  0.08466543],\n",
       "       [ 0.22534062, -0.03814747],\n",
       "       [ 0.24175207, -0.12700045],\n",
       "       [ 0.34443393, -0.10183376],\n",
       "       [ 0.35465005, -0.11765604],\n",
       "       [ 0.36818403, -0.06835221],\n",
       "       [ 0.14835669,  0.06079785],\n",
       "       [ 0.17778948,  0.02562173],\n",
       "       [ 0.23652172, -0.01136971],\n",
       "       [ 0.01965283,  0.23989107],\n",
       "       [-0.03446247,  0.23082349],\n",
       "       [-0.04451923,  0.26213947]], dtype=float32)"
      ]
     },
     "execution_count": 17,
     "metadata": {},
     "output_type": "execute_result"
    }
   ],
   "execution_count": 17
  },
  {
   "metadata": {
    "ExecuteTime": {
     "end_time": "2024-11-07T11:08:20.943619Z",
     "start_time": "2024-11-07T11:08:20.321745Z"
    }
   },
   "cell_type": "code",
   "source": [
    "plt.figure(figsize=(10, 10))\n",
    "for i, word in enumerate(tokenizer.word_index.keys()):\n",
    "    x, y = reduced_embeddings[i]\n",
    "    plt.scatter(x, y)\n",
    "    plt.annotate(word, xy=(x, y), xytext=(5, 2),\n",
    "                 textcoords='offset points',\n",
    "                 ha='right', va='bottom')\n",
    "plt.show()"
   ],
   "id": "4d6e919b9bf7beb",
   "outputs": [
    {
     "data": {
      "text/plain": [
       "<Figure size 1000x1000 with 1 Axes>"
      ],
      "image/png": "[encoded data removed]"
     },
     "metadata": {},
     "output_type": "display_data"
    }
   ],
   "execution_count": 18
  },
  {
   "metadata": {},
   "cell_type": "markdown",
   "source": "## Making predictions",
   "id": "460090ae21016a87"
  },
  {
   "metadata": {
    "ExecuteTime": {
     "end_time": "2024-11-07T11:08:21.075297Z",
     "start_time": "2024-11-07T11:08:20.944617Z"
    }
   },
   "cell_type": "code",
   "source": [
    "test_words = []\n",
    "\n",
    "for idx in X_test[0]:\n",
    "    test_words.append(idx2word.get(idx))\n",
    "\n",
    "# Reshape X_test[0] to have a batch dimension\n",
    "input_data = np.expand_dims(X_test[0], axis=0)\n",
    "\n",
    "pred = model.predict(input_data)\n",
    "pred = np.argmax(pred[0])\n",
    "\n",
    "print(\"pred \", test_words, \"\\n=\", idx2word.get(pred), \"\\n\\n\")"
   ],
   "id": "ab13c9e20f7f7201",
   "outputs": [
    {
     "name": "stdout",
     "output_type": "stream",
     "text": [
      "1/1 [==============================] - 0s 78ms/step\n",
      "pred  ['influenza', 'virus', 'the', 'interval', 'is', 'days'] \n",
      "= is \n",
      "\n",
      "\n"
     ]
    }
   ],
   "execution_count": 19
  },
  {
   "metadata": {
    "ExecuteTime": {
     "end_time": "2024-11-07T11:08:21.080828Z",
     "start_time": "2024-11-07T11:08:21.077293Z"
    }
   },
   "cell_type": "code",
   "source": "",
   "id": "2d2bb2ce5fd2ec44",
   "outputs": [],
   "execution_count": 19
  }
 ],
 "metadata": {
  "kernelspec": {
   "display_name": "Python 3",
   "language": "python",
   "name": "python3"
  },
  "language_info": {
   "codemirror_mode": {
    "name": "ipython",
    "version": 2
   },
   "file_extension": ".py",
   "mimetype": "text/x-python",
   "name": "python",
   "nbconvert_exporter": "python",
   "pygments_lexer": "ipython2",
   "version": "2.7.6"
  }
 },
 "nbformat": 4,
 "nbformat_minor": 5
}
